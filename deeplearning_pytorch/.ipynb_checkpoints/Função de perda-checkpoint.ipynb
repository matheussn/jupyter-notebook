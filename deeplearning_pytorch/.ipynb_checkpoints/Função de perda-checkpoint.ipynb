{
 "cells": [
  {
   "cell_type": "code",
   "execution_count": null,
   "metadata": {},
   "outputs": [
    {
     "name": "stdout",
     "output_type": "stream",
     "text": [
      "Collecting torch\n",
      "  Downloading torch-1.8.1-cp38-cp38-manylinux1_x86_64.whl (804.1 MB)\n",
      "\u001b[K     |██████████████████              | 451.0 MB 11.9 MB/s eta 0:00:302:32     |▋                               | 15.0 MB 9.8 MB/s eta 0:01:21     |██████▏                         | 154.9 MB 14.5 MB/s eta 0:00:45     |███████████▎                    | 283.8 MB 9.8 MB/s eta 0:00:54     |████████████                    | 301.9 MB 14.0 MB/s eta 0:00:36     |█████████████▋                  | 342.4 MB 5.5 MB/s eta 0:01:24     |█████████████████▏              | 430.2 MB 11.5 MB/s eta 0:00:33"
     ]
    }
   ],
   "source": [
    "!pip install torch"
   ]
  },
  {
   "cell_type": "code",
   "execution_count": 1,
   "metadata": {
    "executionInfo": {
     "elapsed": 759,
     "status": "ok",
     "timestamp": 1623762289798,
     "user": {
      "displayName": "Matheus Santiago",
      "photoUrl": "https://lh3.googleusercontent.com/a-/AOh14Gje4vhOT3VTT98LUP3T1rvWrRqTtHz6ROKbOMAymQ=s64",
      "userId": "11453556247697748482"
     },
     "user_tz": 180
    },
    "id": "f6ge8VwBvVRg"
   },
   "outputs": [
    {
     "ename": "ModuleNotFoundError",
     "evalue": "No module named 'torch'",
     "output_type": "error",
     "traceback": [
      "\u001b[0;31m---------------------------------------------------------------------------\u001b[0m",
      "\u001b[0;31mModuleNotFoundError\u001b[0m                       Traceback (most recent call last)",
      "\u001b[0;32m<ipython-input-1-daaf3eea6321>\u001b[0m in \u001b[0;36m<module>\u001b[0;34m\u001b[0m\n\u001b[0;32m----> 1\u001b[0;31m \u001b[0;32mimport\u001b[0m \u001b[0mtorch\u001b[0m\u001b[0;34m\u001b[0m\u001b[0;34m\u001b[0m\u001b[0m\n\u001b[0m\u001b[1;32m      2\u001b[0m \u001b[0;32mfrom\u001b[0m \u001b[0mtorch\u001b[0m \u001b[0;32mimport\u001b[0m \u001b[0mnn\u001b[0m\u001b[0;34m\u001b[0m\u001b[0;34m\u001b[0m\u001b[0m\n",
      "\u001b[0;31mModuleNotFoundError\u001b[0m: No module named 'torch'"
     ]
    }
   ],
   "source": [
    "import torch\n",
    "from torch import nn"
   ]
  },
  {
   "cell_type": "code",
   "execution_count": 2,
   "metadata": {
    "colab": {
     "base_uri": "https://localhost:8080/"
    },
    "executionInfo": {
     "elapsed": 13,
     "status": "ok",
     "timestamp": 1623762289800,
     "user": {
      "displayName": "Matheus Santiago",
      "photoUrl": "https://lh3.googleusercontent.com/a-/AOh14Gje4vhOT3VTT98LUP3T1rvWrRqTtHz6ROKbOMAymQ=s64",
      "userId": "11453556247697748482"
     },
     "user_tz": 180
    },
    "id": "n1-ZGjkmvbTA",
    "outputId": "008824f9-852e-4f77-9163-1dc366cb40bb"
   },
   "outputs": [
    {
     "name": "stdout",
     "output_type": "stream",
     "text": [
      "cpu\n"
     ]
    }
   ],
   "source": [
    "if torch.cuda.is_available():\n",
    "  device = torch.device('cuda')\n",
    "else:\n",
    "  device = torch.device('cpu')\n",
    "\n",
    "print(device)"
   ]
  },
  {
   "cell_type": "code",
   "execution_count": 3,
   "metadata": {
    "colab": {
     "base_uri": "https://localhost:8080/"
    },
    "executionInfo": {
     "elapsed": 245,
     "status": "ok",
     "timestamp": 1623762290037,
     "user": {
      "displayName": "Matheus Santiago",
      "photoUrl": "https://lh3.googleusercontent.com/a-/AOh14Gje4vhOT3VTT98LUP3T1rvWrRqTtHz6ROKbOMAymQ=s64",
      "userId": "11453556247697748482"
     },
     "user_tz": 180
    },
    "id": "Pzk0Fh9evmcx",
    "outputId": "3ac7d812-38b0-454b-98af-452848dfe837"
   },
   "outputs": [
    {
     "name": "stdout",
     "output_type": "stream",
     "text": [
      "(178, 13) (178,)\n",
      "['alcohol', 'malic_acid', 'ash', 'alcalinity_of_ash', 'magnesium', 'total_phenols', 'flavanoids', 'nonflavanoid_phenols', 'proanthocyanins', 'color_intensity', 'hue', 'od280/od315_of_diluted_wines', 'proline'] ['class_0' 'class_1' 'class_2']\n"
     ]
    }
   ],
   "source": [
    "from sklearn import datasets\n",
    "\n",
    "wine = datasets.load_wine()\n",
    "data = wine.data\n",
    "target = wine.target\n",
    "\n",
    "print(data.shape, target.shape)\n",
    "print(wine.feature_names, wine.target_names)"
   ]
  },
  {
   "cell_type": "code",
   "execution_count": 4,
   "metadata": {
    "executionInfo": {
     "elapsed": 13,
     "status": "ok",
     "timestamp": 1623762290039,
     "user": {
      "displayName": "Matheus Santiago",
      "photoUrl": "https://lh3.googleusercontent.com/a-/AOh14Gje4vhOT3VTT98LUP3T1rvWrRqTtHz6ROKbOMAymQ=s64",
      "userId": "11453556247697748482"
     },
     "user_tz": 180
    },
    "id": "rvulkljnv3u5"
   },
   "outputs": [],
   "source": [
    "class WineClassifier(nn.Module):\n",
    "  def __init__(self, input_size, hidden_size, out_size):\n",
    "    super(WineClassifier, self).__init__()\n",
    "    \n",
    "    self.hidden = nn.Linear(input_size, hidden_size)\n",
    "    self.relu = nn.ReLU()\n",
    "    self.out = nn.Linear(hidden_size, out_size)\n",
    "    self.softmax = nn.Softmax()\n",
    "\n",
    "  def forward(self, x):\n",
    "    feature = self.relu(self.hidden(x))\n",
    "    output = self.softmax(self.out(feature))\n",
    "\n",
    "    return output"
   ]
  },
  {
   "cell_type": "code",
   "execution_count": 5,
   "metadata": {
    "executionInfo": {
     "elapsed": 13,
     "status": "ok",
     "timestamp": 1623762290041,
     "user": {
      "displayName": "Matheus Santiago",
      "photoUrl": "https://lh3.googleusercontent.com/a-/AOh14Gje4vhOT3VTT98LUP3T1rvWrRqTtHz6ROKbOMAymQ=s64",
      "userId": "11453556247697748482"
     },
     "user_tz": 180
    },
    "id": "sUEGkGA_w1nT"
   },
   "outputs": [],
   "source": [
    "input_size = data.shape[1]\n",
    "hidden_size = 32\n",
    "out_size = len(wine.target_names)\n",
    "\n",
    "net = WineClassifier(input_size, hidden_size, out_size).to(device)"
   ]
  },
  {
   "cell_type": "code",
   "execution_count": 6,
   "metadata": {
    "colab": {
     "base_uri": "https://localhost:8080/"
    },
    "executionInfo": {
     "elapsed": 23,
     "status": "ok",
     "timestamp": 1623762371225,
     "user": {
      "displayName": "Matheus Santiago",
      "photoUrl": "https://lh3.googleusercontent.com/a-/AOh14Gje4vhOT3VTT98LUP3T1rvWrRqTtHz6ROKbOMAymQ=s64",
      "userId": "11453556247697748482"
     },
     "user_tz": 180
    },
    "id": "zOZxj7C3xMei",
    "outputId": "b4130af0-c5e2-476c-d7df-fad01ee28c78"
   },
   "outputs": [
    {
     "name": "stdout",
     "output_type": "stream",
     "text": [
      "WineClassifier(\n",
      "  (hidden): Linear(in_features=13, out_features=32, bias=True)\n",
      "  (relu): ReLU()\n",
      "  (out): Linear(in_features=32, out_features=3, bias=True)\n",
      "  (softmax): Softmax(dim=None)\n",
      ")\n"
     ]
    }
   ],
   "source": [
    "print(net)"
   ]
  },
  {
   "cell_type": "code",
   "execution_count": 7,
   "metadata": {
    "executionInfo": {
     "elapsed": 242,
     "status": "ok",
     "timestamp": 1623762423166,
     "user": {
      "displayName": "Matheus Santiago",
      "photoUrl": "https://lh3.googleusercontent.com/a-/AOh14Gje4vhOT3VTT98LUP3T1rvWrRqTtHz6ROKbOMAymQ=s64",
      "userId": "11453556247697748482"
     },
     "user_tz": 180
    },
    "id": "qoIzhhUdx39n"
   },
   "outputs": [],
   "source": [
    "criterion = nn.CrossEntropyLoss().to(device)"
   ]
  },
  {
   "cell_type": "code",
   "execution_count": 10,
   "metadata": {
    "colab": {
     "base_uri": "https://localhost:8080/"
    },
    "executionInfo": {
     "elapsed": 239,
     "status": "ok",
     "timestamp": 1623762535272,
     "user": {
      "displayName": "Matheus Santiago",
      "photoUrl": "https://lh3.googleusercontent.com/a-/AOh14Gje4vhOT3VTT98LUP3T1rvWrRqTtHz6ROKbOMAymQ=s64",
      "userId": "11453556247697748482"
     },
     "user_tz": 180
    },
    "id": "dligyhVzyEsT",
    "outputId": "3b3b4be3-6379-4537-881e-aacd27e16e86"
   },
   "outputs": [
    {
     "name": "stdout",
     "output_type": "stream",
     "text": [
      "torch.float32 torch.int64\n"
     ]
    }
   ],
   "source": [
    "Xtns = torch.from_numpy(data).float().to(device)\n",
    "Ytns = torch.from_numpy(target).to(device)\n",
    "\n",
    "print(Xtns.dtype, Ytns.dtype)"
   ]
  },
  {
   "cell_type": "code",
   "execution_count": 14,
   "metadata": {
    "colab": {
     "base_uri": "https://localhost:8080/"
    },
    "executionInfo": {
     "elapsed": 254,
     "status": "ok",
     "timestamp": 1623762653453,
     "user": {
      "displayName": "Matheus Santiago",
      "photoUrl": "https://lh3.googleusercontent.com/a-/AOh14Gje4vhOT3VTT98LUP3T1rvWrRqTtHz6ROKbOMAymQ=s64",
      "userId": "11453556247697748482"
     },
     "user_tz": 180
    },
    "id": "JjnIaaCSyVil",
    "outputId": "77a5cd19-b6b6-4049-aad0-789aaa6cfb4b"
   },
   "outputs": [
    {
     "name": "stderr",
     "output_type": "stream",
     "text": [
      "/usr/local/lib/python3.7/dist-packages/ipykernel_launcher.py:12: UserWarning: Implicit dimension choice for softmax has been deprecated. Change the call to include dim=X as an argument.\n",
      "  if sys.path[0] == '':\n"
     ]
    }
   ],
   "source": [
    "pred = net(Xtns)"
   ]
  },
  {
   "cell_type": "code",
   "execution_count": 15,
   "metadata": {
    "colab": {
     "base_uri": "https://localhost:8080/"
    },
    "executionInfo": {
     "elapsed": 246,
     "status": "ok",
     "timestamp": 1623762671351,
     "user": {
      "displayName": "Matheus Santiago",
      "photoUrl": "https://lh3.googleusercontent.com/a-/AOh14Gje4vhOT3VTT98LUP3T1rvWrRqTtHz6ROKbOMAymQ=s64",
      "userId": "11453556247697748482"
     },
     "user_tz": 180
    },
    "id": "P0XtsXqKynFH",
    "outputId": "955ebed1-dac3-4848-89c6-d0805dfa29d9"
   },
   "outputs": [
    {
     "name": "stdout",
     "output_type": "stream",
     "text": [
      "torch.Size([178, 3]) torch.Size([178])\n"
     ]
    }
   ],
   "source": [
    "print(pred.shape, Ytns.shape)"
   ]
  },
  {
   "cell_type": "code",
   "execution_count": null,
   "metadata": {
    "id": "g4PUyuLTzBHw"
   },
   "outputs": [],
   "source": [
    "loss = criterion(pred, Ytns)\n",
    "print(loss)"
   ]
  },
  {
   "cell_type": "markdown",
   "metadata": {
    "id": "neVKzz9F0WBu"
   },
   "source": [
    "# Regressão"
   ]
  },
  {
   "cell_type": "code",
   "execution_count": 17,
   "metadata": {
    "colab": {
     "base_uri": "https://localhost:8080/"
    },
    "executionInfo": {
     "elapsed": 244,
     "status": "ok",
     "timestamp": 1623763213962,
     "user": {
      "displayName": "Matheus Santiago",
      "photoUrl": "https://lh3.googleusercontent.com/a-/AOh14Gje4vhOT3VTT98LUP3T1rvWrRqTtHz6ROKbOMAymQ=s64",
      "userId": "11453556247697748482"
     },
     "user_tz": 180
    },
    "id": "-Myq7mMdzTGV",
    "outputId": "8945977a-4c14-4227-f73b-f3076358948f"
   },
   "outputs": [
    {
     "name": "stdout",
     "output_type": "stream",
     "text": [
      "(442, 10) (442,)\n"
     ]
    }
   ],
   "source": [
    "diabetes = datasets.load_diabetes()\n",
    "data = diabetes.data\n",
    "target = diabetes.target\n",
    "\n",
    "print(data.shape, target.shape)"
   ]
  },
  {
   "cell_type": "code",
   "execution_count": 25,
   "metadata": {
    "executionInfo": {
     "elapsed": 238,
     "status": "ok",
     "timestamp": 1623763619153,
     "user": {
      "displayName": "Matheus Santiago",
      "photoUrl": "https://lh3.googleusercontent.com/a-/AOh14Gje4vhOT3VTT98LUP3T1rvWrRqTtHz6ROKbOMAymQ=s64",
      "userId": "11453556247697748482"
     },
     "user_tz": 180
    },
    "id": "Eb1pZ4m_1Fwb"
   },
   "outputs": [],
   "source": [
    "class DiabetesClassifier(nn.Module):\n",
    "  def __init__(self, input_size, hidden_size, out_size):\n",
    "    super(DiabetesClassifier, self).__init__()\n",
    "    \n",
    "    self.hidden = nn.Linear(input_size, hidden_size)\n",
    "    self.relu = nn.ReLU()\n",
    "    self.out = nn.Linear(hidden_size, out_size)\n",
    "    self.softmax = nn.Softmax(dim=-1)\n",
    "\n",
    "  def forward(self, x):\n",
    "    feature = self.relu(self.hidden(x))\n",
    "    output = self.softmax(self.out(feature))\n",
    "\n",
    "    return output"
   ]
  },
  {
   "cell_type": "code",
   "execution_count": 26,
   "metadata": {
    "executionInfo": {
     "elapsed": 7,
     "status": "ok",
     "timestamp": 1623763620148,
     "user": {
      "displayName": "Matheus Santiago",
      "photoUrl": "https://lh3.googleusercontent.com/a-/AOh14Gje4vhOT3VTT98LUP3T1rvWrRqTtHz6ROKbOMAymQ=s64",
      "userId": "11453556247697748482"
     },
     "user_tz": 180
    },
    "id": "EjM4SahV1T79"
   },
   "outputs": [],
   "source": [
    "input_size  = data.shape[1]\n",
    "hidden_size = 32\n",
    "out_size    = 1\n",
    "\n",
    "net = DiabetesClassifier(input_size, hidden_size, out_size).to(device)"
   ]
  },
  {
   "cell_type": "code",
   "execution_count": 27,
   "metadata": {
    "colab": {
     "base_uri": "https://localhost:8080/"
    },
    "executionInfo": {
     "elapsed": 7,
     "status": "ok",
     "timestamp": 1623763620959,
     "user": {
      "displayName": "Matheus Santiago",
      "photoUrl": "https://lh3.googleusercontent.com/a-/AOh14Gje4vhOT3VTT98LUP3T1rvWrRqTtHz6ROKbOMAymQ=s64",
      "userId": "11453556247697748482"
     },
     "user_tz": 180
    },
    "id": "vFnVqEX81j2q",
    "outputId": "c9b7f7ce-80a2-4a09-8b1d-d9bdda504996"
   },
   "outputs": [
    {
     "name": "stdout",
     "output_type": "stream",
     "text": [
      "torch.Size([442, 10]) torch.Size([442])\n"
     ]
    }
   ],
   "source": [
    "criterion = nn.MSELoss().to(device)\n",
    "\n",
    "Xtns = torch.from_numpy(data).float().to(device)\n",
    "Ytns = torch.from_numpy(target).float().to(device)\n",
    "\n",
    "print(Xtns.shape, Ytns.shape)"
   ]
  },
  {
   "cell_type": "code",
   "execution_count": 28,
   "metadata": {
    "colab": {
     "base_uri": "https://localhost:8080/"
    },
    "executionInfo": {
     "elapsed": 237,
     "status": "ok",
     "timestamp": 1623763622107,
     "user": {
      "displayName": "Matheus Santiago",
      "photoUrl": "https://lh3.googleusercontent.com/a-/AOh14Gje4vhOT3VTT98LUP3T1rvWrRqTtHz6ROKbOMAymQ=s64",
      "userId": "11453556247697748482"
     },
     "user_tz": 180
    },
    "id": "p2cfITu02MRx",
    "outputId": "04dad0eb-72c7-4d09-ab17-dfc233d468dc"
   },
   "outputs": [
    {
     "name": "stdout",
     "output_type": "stream",
     "text": [
      "torch.Size([442, 1])\n"
     ]
    }
   ],
   "source": [
    "pred = net(Xtns)\n",
    "print(pred.shape)"
   ]
  },
  {
   "cell_type": "code",
   "execution_count": 29,
   "metadata": {
    "colab": {
     "base_uri": "https://localhost:8080/"
    },
    "executionInfo": {
     "elapsed": 235,
     "status": "ok",
     "timestamp": 1623763623707,
     "user": {
      "displayName": "Matheus Santiago",
      "photoUrl": "https://lh3.googleusercontent.com/a-/AOh14Gje4vhOT3VTT98LUP3T1rvWrRqTtHz6ROKbOMAymQ=s64",
      "userId": "11453556247697748482"
     },
     "user_tz": 180
    },
    "id": "-UJztwlp2QYF",
    "outputId": "ed79927c-825b-4b6a-8799-05d8c2be7112"
   },
   "outputs": [
    {
     "name": "stdout",
     "output_type": "stream",
     "text": [
      "tensor(28771.2148)\n"
     ]
    }
   ],
   "source": [
    "loss = criterion(pred.squeeze(), Ytns)\n",
    "print(loss.data)"
   ]
  },
  {
   "cell_type": "code",
   "execution_count": null,
   "metadata": {
    "id": "w2q8KLpo2x1b"
   },
   "outputs": [],
   "source": []
  }
 ],
 "metadata": {
  "colab": {
   "authorship_tag": "ABX9TyPkKoIWxBrr41zAKXS9Mze8",
   "collapsed_sections": [],
   "name": "Função de perda.ipynb",
   "provenance": []
  },
  "kernelspec": {
   "display_name": "Python 3",
   "language": "python",
   "name": "python3"
  },
  "language_info": {
   "codemirror_mode": {
    "name": "ipython",
    "version": 3
   },
   "file_extension": ".py",
   "mimetype": "text/x-python",
   "name": "python",
   "nbconvert_exporter": "python",
   "pygments_lexer": "ipython3",
   "version": "3.8.5"
  }
 },
 "nbformat": 4,
 "nbformat_minor": 1
}
