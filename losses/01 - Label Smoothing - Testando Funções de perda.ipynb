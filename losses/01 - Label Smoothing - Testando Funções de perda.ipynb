{
 "cells": [
  {
   "cell_type": "code",
   "execution_count": 1,
   "id": "24a77f87",
   "metadata": {},
   "outputs": [],
   "source": [
    "import tensorflow as tf"
   ]
  },
  {
   "cell_type": "code",
   "execution_count": 2,
   "id": "baf6eda6",
   "metadata": {},
   "outputs": [
    {
     "name": "stderr",
     "output_type": "stream",
     "text": [
      "2021-10-23 13:43:11.737632: I tensorflow/stream_executor/cuda/cuda_gpu_executor.cc:937] successful NUMA node read from SysFS had negative value (-1), but there must be at least one NUMA node, so returning NUMA node zero\n",
      "2021-10-23 13:43:11.741027: I tensorflow/stream_executor/cuda/cuda_gpu_executor.cc:937] successful NUMA node read from SysFS had negative value (-1), but there must be at least one NUMA node, so returning NUMA node zero\n",
      "2021-10-23 13:43:11.741173: I tensorflow/stream_executor/cuda/cuda_gpu_executor.cc:937] successful NUMA node read from SysFS had negative value (-1), but there must be at least one NUMA node, so returning NUMA node zero\n"
     ]
    }
   ],
   "source": [
    "# Set CPU as available physical device\n",
    "my_devices = tf.config.experimental.list_physical_devices(device_type='CPU')\n",
    "tf.config.experimental.set_visible_devices(devices= my_devices, device_type='CPU')"
   ]
  },
  {
   "cell_type": "code",
   "execution_count": 3,
   "id": "7304a45c",
   "metadata": {},
   "outputs": [
    {
     "name": "stderr",
     "output_type": "stream",
     "text": [
      "2021-10-23 13:43:11.936564: I tensorflow/core/platform/cpu_feature_guard.cc:142] This TensorFlow binary is optimized with oneAPI Deep Neural Network Library (oneDNN) to use the following CPU instructions in performance-critical operations:  AVX2 FMA\n",
      "To enable them in other operations, rebuild TensorFlow with the appropriate compiler flags.\n",
      "2021-10-23 13:43:11.937037: I tensorflow/stream_executor/cuda/cuda_gpu_executor.cc:937] successful NUMA node read from SysFS had negative value (-1), but there must be at least one NUMA node, so returning NUMA node zero\n",
      "2021-10-23 13:43:11.940300: I tensorflow/stream_executor/cuda/cuda_gpu_executor.cc:937] successful NUMA node read from SysFS had negative value (-1), but there must be at least one NUMA node, so returning NUMA node zero\n",
      "2021-10-23 13:43:11.940434: I tensorflow/stream_executor/cuda/cuda_gpu_executor.cc:937] successful NUMA node read from SysFS had negative value (-1), but there must be at least one NUMA node, so returning NUMA node zero\n",
      "2021-10-23 13:43:12.541014: I tensorflow/stream_executor/cuda/cuda_gpu_executor.cc:937] successful NUMA node read from SysFS had negative value (-1), but there must be at least one NUMA node, so returning NUMA node zero\n",
      "2021-10-23 13:43:12.541184: I tensorflow/stream_executor/cuda/cuda_gpu_executor.cc:937] successful NUMA node read from SysFS had negative value (-1), but there must be at least one NUMA node, so returning NUMA node zero\n",
      "2021-10-23 13:43:12.541316: I tensorflow/stream_executor/cuda/cuda_gpu_executor.cc:937] successful NUMA node read from SysFS had negative value (-1), but there must be at least one NUMA node, so returning NUMA node zero\n",
      "2021-10-23 13:43:12.541435: I tensorflow/core/common_runtime/gpu/gpu_device.cc:1510] Created device /job:localhost/replica:0/task:0/device:GPU:0 with 28 MB memory:  -> device: 0, name: NVIDIA GeForce GTX 1050 Ti, pci bus id: 0000:01:00.0, compute capability: 6.1\n",
      "2021-10-23 13:43:12.542562: I tensorflow/stream_executor/cuda/cuda_driver.cc:732] failed to allocate 28.25M (29622272 bytes) from device: CUDA_ERROR_OUT_OF_MEMORY: out of memory\n",
      "2021-10-23 13:43:12.542775: I tensorflow/stream_executor/cuda/cuda_driver.cc:732] failed to allocate 25.42M (26660096 bytes) from device: CUDA_ERROR_OUT_OF_MEMORY: out of memory\n",
      "2021-10-23 13:43:12.542982: I tensorflow/stream_executor/cuda/cuda_driver.cc:732] failed to allocate 22.88M (23994112 bytes) from device: CUDA_ERROR_OUT_OF_MEMORY: out of memory\n",
      "2021-10-23 13:43:12.543188: I tensorflow/stream_executor/cuda/cuda_driver.cc:732] failed to allocate 20.59M (21594880 bytes) from device: CUDA_ERROR_OUT_OF_MEMORY: out of memory\n",
      "2021-10-23 13:43:12.543394: I tensorflow/stream_executor/cuda/cuda_driver.cc:732] failed to allocate 18.54M (19435520 bytes) from device: CUDA_ERROR_OUT_OF_MEMORY: out of memory\n",
      "2021-10-23 13:43:12.543603: I tensorflow/stream_executor/cuda/cuda_driver.cc:732] failed to allocate 16.68M (17491968 bytes) from device: CUDA_ERROR_OUT_OF_MEMORY: out of memory\n",
      "2021-10-23 13:43:12.543812: I tensorflow/stream_executor/cuda/cuda_driver.cc:732] failed to allocate 15.01M (15742976 bytes) from device: CUDA_ERROR_OUT_OF_MEMORY: out of memory\n"
     ]
    },
    {
     "data": {
      "text/plain": [
       "0.42139575"
      ]
     },
     "execution_count": 3,
     "metadata": {},
     "output_type": "execute_result"
    }
   ],
   "source": [
    "y_true = [[.9], [.9], [.9]]\n",
    "y_pred2= [[0.989999], [0.989999], [0.9000]]\n",
    "bce = tf.keras.losses.BinaryCrossentropy()\n",
    "bce(y_true, y_pred2).numpy()"
   ]
  },
  {
   "cell_type": "code",
   "execution_count": 4,
   "id": "4ff6bdb2",
   "metadata": {},
   "outputs": [
    {
     "data": {
      "text/plain": [
       "1.9396944"
      ]
     },
     "execution_count": 4,
     "metadata": {},
     "output_type": "execute_result"
    }
   ],
   "source": [
    "y_true = [[.9], [.9], [.9]]\n",
    "y_pred2= [[0.989999], [0.989999], [0.9000]]\n",
    "bce = tf.keras.losses.BinaryCrossentropy(label_smoothing=1)\n",
    "bce(y_true, y_pred2).numpy()"
   ]
  },
  {
   "cell_type": "code",
   "execution_count": 5,
   "id": "91cb1358",
   "metadata": {},
   "outputs": [
    {
     "data": {
      "text/plain": [
       "1.7878643"
      ]
     },
     "execution_count": 5,
     "metadata": {},
     "output_type": "execute_result"
    }
   ],
   "source": [
    "y_true = [[.9], [.9], [.9]]\n",
    "y_pred2= [[0.989999], [0.989999], [0.9000]]\n",
    "bce = tf.keras.losses.BinaryCrossentropy(label_smoothing=.9)\n",
    "bce(y_true, y_pred2).numpy()"
   ]
  },
  {
   "cell_type": "code",
   "execution_count": null,
   "id": "c8b0de48",
   "metadata": {},
   "outputs": [],
   "source": [
    "y_true = [[.9], [.9], [.9]]\n",
    "y_pred2= [[0.989999], [0.989999], [0.9000]]\n",
    "bce = tf.keras.losses.BinaryCrossentropy(label_smoothing=0.1)\n",
    "bce(y_true, y_pred2).numpy()"
   ]
  },
  {
   "cell_type": "code",
   "execution_count": null,
   "id": "a6b4795e",
   "metadata": {},
   "outputs": [],
   "source": []
  }
 ],
 "metadata": {
  "kernelspec": {
   "display_name": "Python 3 (ipykernel)",
   "language": "python",
   "name": "python3"
  },
  "language_info": {
   "codemirror_mode": {
    "name": "ipython",
    "version": 3
   },
   "file_extension": ".py",
   "mimetype": "text/x-python",
   "name": "python",
   "nbconvert_exporter": "python",
   "pygments_lexer": "ipython3",
   "version": "3.9.7"
  }
 },
 "nbformat": 4,
 "nbformat_minor": 5
}
